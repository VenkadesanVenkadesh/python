{
  "nbformat": 4,
  "nbformat_minor": 0,
  "metadata": {
    "colab": {
      "provenance": []
    },
    "kernelspec": {
      "name": "python3",
      "display_name": "Python 3"
    },
    "language_info": {
      "name": "python"
    }
  },
  "cells": [
    {
      "cell_type": "markdown",
      "source": [
        "program -1\n",
        "      given Number is possitive or negative"
      ],
      "metadata": {
        "id": "loz_EE4Fj2o3"
      }
    },
    {
      "cell_type": "code",
      "source": [
        "a = int(input(\"enter the number : \"))\n",
        "\n",
        "if a >= 0:\n",
        "  print(\" number is possitive \")\n",
        "else:\n",
        "  print(\" number is negative \")"
      ],
      "metadata": {
        "colab": {
          "base_uri": "https://localhost:8080/"
        },
        "id": "qhjS_rMHkM6f",
        "outputId": "e5f504fa-977b-4542-cff4-e18e8c664e5c"
      },
      "execution_count": null,
      "outputs": [
        {
          "output_type": "stream",
          "name": "stdout",
          "text": [
            "enter the number : 10\n",
            " number is possitive \n"
          ]
        }
      ]
    },
    {
      "cell_type": "markdown",
      "source": [
        "program -2 printing even number in given range"
      ],
      "metadata": {
        "id": "2M6Dib1Pk_CW"
      }
    },
    {
      "cell_type": "code",
      "source": [
        "b = int(input(\"enter the range : \"))\n",
        "for i in range(0,b+1):\n",
        "  if i%2==0:\n",
        "    print(i)\n",
        "  else:\n",
        "    pass"
      ],
      "metadata": {
        "colab": {
          "base_uri": "https://localhost:8080/"
        },
        "id": "cSpgJRJBlOf0",
        "outputId": "8b0779e5-4e7d-44ca-a55e-371f6be8500f"
      },
      "execution_count": null,
      "outputs": [
        {
          "output_type": "stream",
          "name": "stdout",
          "text": [
            "enter the range : 10\n",
            "0\n",
            "2\n",
            "4\n",
            "6\n",
            "8\n",
            "10\n"
          ]
        }
      ]
    },
    {
      "cell_type": "markdown",
      "source": [
        "program -3 given year is leaf year or not"
      ],
      "metadata": {
        "id": "-_cpwjVvmHY6"
      }
    },
    {
      "cell_type": "code",
      "source": [
        "year = int(input(\"enter the year : \"))\n",
        "if year % 4 == 0 :\n",
        "  print(year ,\" is leaf year. \")\n",
        "else:\n",
        "  print(year, \" is normal year.\")"
      ],
      "metadata": {
        "colab": {
          "base_uri": "https://localhost:8080/"
        },
        "id": "_eITuFAamR59",
        "outputId": "1742c69c-e551-4a13-ea39-5606cd523376"
      },
      "execution_count": null,
      "outputs": [
        {
          "output_type": "stream",
          "name": "stdout",
          "text": [
            "enter the year : 2024\n",
            "2024  is leaf year. \n"
          ]
        }
      ]
    },
    {
      "cell_type": "markdown",
      "source": [
        "program -4 student mark sheet"
      ],
      "metadata": {
        "id": "3L7Bs1Dpn6Gs"
      }
    },
    {
      "cell_type": "code",
      "source": [
        "val = True\n",
        "print( \"s_id| s_name| mark_1| mark_2| mark_3| total| grade\")\n",
        "while val:\n",
        "   s_id = int(input(\" enter student id :\"))\n",
        "   s_name = str(input(\" enter student name :\"))\n",
        "   mark_1 = int(input(\" enter student mark1 :\"))\n",
        "   mark_2 = int(input(\" enter student mark2 :\"))\n",
        "   mark_3 = int(input(\" enter student mark3 :\"))\n",
        "   total= mark_1 + mark_2 + mark_3\n",
        "   if total >= 250 :\n",
        "      grade = 'A'\n",
        "   elif total >= 200 :\n",
        "      grade = 'B'\n",
        "   elif total >= 150 :\n",
        "      grade = 'C'\n",
        "   elif total >= 100 :\n",
        "      grade = 'D'\n",
        "   else :\n",
        "      grade = \" Fail\"\n",
        "   print( s_id, \" | \",s_name,\" | \",mark_1,\" | \",mark_2,\" | \",mark_3, \" | \",total,\" | \",grade)\n",
        "   stop =str(input(\"press 's' for stop , 'n' for continue\"))\n",
        "   if stop == 's':\n",
        "      val = False\n",
        "   else:\n",
        "      continue\n",
        "\n"
      ],
      "metadata": {
        "id": "2gGy_rbkoDnX",
        "colab": {
          "base_uri": "https://localhost:8080/"
        },
        "outputId": "a6401471-4a88-4267-fe74-cad7e7f6072d"
      },
      "execution_count": 11,
      "outputs": [
        {
          "name": "stdout",
          "output_type": "stream",
          "text": [
            "s_id| s_name| mark_1| mark_2| mark_3| total| grade\n",
            " enter student id :1\n",
            " enter student name :frrf\n",
            " enter student mark1 :78\n",
            " enter student mark2 :98\n",
            " enter student mark3 :78\n",
            "1  |  frrf  |  78  |  98  |  78  |  254  |  A\n",
            "press 's' for stop , 'n' for continues\n"
          ]
        }
      ]
    },
    {
      "cell_type": "markdown",
      "source": [
        "program -5 summation of given range number"
      ],
      "metadata": {
        "id": "8clUFpKZ1_rJ"
      }
    },
    {
      "cell_type": "code",
      "source": [
        "sum = 0\n",
        "num = int(input(\"enter the range :\"))\n",
        "for i in range(0,num+1):\n",
        "  sum = sum + i\n",
        "print(\" the sum of given number is :\", sum)\n"
      ],
      "metadata": {
        "colab": {
          "base_uri": "https://localhost:8080/"
        },
        "id": "YBUds07Z2toF",
        "outputId": "eae7d3a0-3501-459b-c638-1b5035d958e7"
      },
      "execution_count": 12,
      "outputs": [
        {
          "output_type": "stream",
          "name": "stdout",
          "text": [
            "enter the range :10\n",
            " the sum of given number is : 55\n"
          ]
        }
      ]
    },
    {
      "cell_type": "markdown",
      "source": [
        "program  -6 factorial"
      ],
      "metadata": {
        "id": "jIwtrpz04GlU"
      }
    },
    {
      "cell_type": "code",
      "source": [
        "fact = 1\n",
        "num1 = int(input(\" enter number :\"))\n",
        "while num1 > 0:\n",
        "  fact = fact * num1\n",
        "  num1 -=1\n",
        "print(\" the factorial of\", num1, \"is :\", fact)"
      ],
      "metadata": {
        "colab": {
          "base_uri": "https://localhost:8080/"
        },
        "id": "VazFaxA44BrK",
        "outputId": "bdc907b4-8122-4b55-98d7-fea797776258"
      },
      "execution_count": 16,
      "outputs": [
        {
          "output_type": "stream",
          "name": "stdout",
          "text": [
            " enter number :3\n",
            " the factorial of 0 is : 6\n"
          ]
        }
      ]
    },
    {
      "cell_type": "markdown",
      "source": [
        "program -7 find the largest number in given list"
      ],
      "metadata": {
        "id": "mto9A2AU5Ynt"
      }
    },
    {
      "cell_type": "code",
      "source": [
        "li = 0\n",
        "mylist = [5,76,56,65,87,40]\n",
        "\n",
        "for i in mylist:\n",
        "  if li < i:\n",
        "    li = i\n",
        "print( \"the largest number is: \", li)"
      ],
      "metadata": {
        "colab": {
          "base_uri": "https://localhost:8080/"
        },
        "id": "v3rancLf5lJ_",
        "outputId": "51588f79-de19-4065-92a6-2beab48f5e45"
      },
      "execution_count": 18,
      "outputs": [
        {
          "output_type": "stream",
          "name": "stdout",
          "text": [
            "the largest number is:  87\n"
          ]
        }
      ]
    },
    {
      "cell_type": "markdown",
      "source": [
        "program -8 fibnosis series"
      ],
      "metadata": {
        "id": "pwZeukDA6m65"
      }
    },
    {
      "cell_type": "code",
      "source": [
        "\n",
        "li = [0,1]\n",
        "a = 0\n",
        "b = 1\n",
        "c = 0\n",
        "r = int(input(\" enter the number :\"))\n",
        "for i in range( 0,r+1):\n",
        "  c = a + b\n",
        "  a = b\n",
        "  b = c\n",
        "  li.append(c)\n",
        "print(li)\n"
      ],
      "metadata": {
        "colab": {
          "base_uri": "https://localhost:8080/"
        },
        "id": "pxiSBXo_6rcp",
        "outputId": "c848351f-e0af-4796-d56b-44c6ef5e4029"
      },
      "execution_count": 30,
      "outputs": [
        {
          "output_type": "stream",
          "name": "stdout",
          "text": [
            " enter the number :10\n",
            "[0, 1, 1, 2, 3, 5, 8, 13, 21, 34, 55, 89, 144]\n"
          ]
        }
      ]
    },
    {
      "cell_type": "markdown",
      "source": [
        "program - 9 prime number"
      ],
      "metadata": {
        "id": "e2ssPV0m_tFk"
      }
    },
    {
      "cell_type": "code",
      "source": [
        "num2 = int(input(\" enter number :\"))\n",
        "if num2 <= 1:\n",
        "  print(\" its not prime number\")\n",
        "elif num2 <= 3:\n",
        "  print(\"its prime number\")\n",
        "elif num2%2==0 or num2%3==0:\n",
        "  print(\" its not a prime number\")\n",
        "else:\n",
        "  print(\" its prime\")"
      ],
      "metadata": {
        "colab": {
          "base_uri": "https://localhost:8080/"
        },
        "id": "QSv8e772ALCj",
        "outputId": "3d67a19a-0a7e-4450-dfba-cf081374e542"
      },
      "execution_count": 32,
      "outputs": [
        {
          "output_type": "stream",
          "name": "stdout",
          "text": [
            " enter number :7\n",
            " its prime\n"
          ]
        }
      ]
    },
    {
      "cell_type": "markdown",
      "source": [
        "program -10 pattern program"
      ],
      "metadata": {
        "id": "OVJzZXp9CbvR"
      }
    },
    {
      "cell_type": "code",
      "source": [
        "ascii_num = 65\n",
        "for i in range (0,5):\n",
        "  for j in range(0,i+1):\n",
        "    chra = chr(ascii_num)\n",
        "    print(chra, end = \" \")\n",
        "  ascii_num += 1\n",
        "  print(' ')\n",
        "\n"
      ],
      "metadata": {
        "colab": {
          "base_uri": "https://localhost:8080/"
        },
        "id": "iMjZeQvpCgWX",
        "outputId": "d2ff02c4-f47c-426f-eee5-152a66f79889"
      },
      "execution_count": 44,
      "outputs": [
        {
          "output_type": "stream",
          "name": "stdout",
          "text": [
            "A  \n",
            "B B  \n",
            "C C C  \n",
            "D D D D  \n",
            "E E E E E  \n"
          ]
        }
      ]
    }
  ]
}